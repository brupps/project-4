{
 "cells": [
  {
   "cell_type": "code",
   "execution_count": 1,
   "id": "cb950adc",
   "metadata": {},
   "outputs": [],
   "source": [
    "# import dependencies for spark\n",
    "import findspark\n",
    "findspark.init()\n",
    "\n",
    "from pyspark.sql import SparkSession\n",
    "from pyspark import SparkFiles\n",
    "\n",
    "from pathlib import Path\n",
    "\n",
    "import warnings\n",
    "warnings.filterwarnings('ignore')"
   ]
  },
  {
   "cell_type": "code",
   "execution_count": 2,
   "id": "da1118a8",
   "metadata": {},
   "outputs": [],
   "source": [
    "# start spark session\n",
    "\n",
    "spark = SparkSession.builder\\\n",
    "    .appName(\"SparkSQL\")\\\n",
    "    .config(\"spark.sql.debug.maxToStringFields\", 2000)\\\n",
    "    .config(\"spark.driver.memory\", \"2g\")\\\n",
    "    .getOrCreate()"
   ]
  },
  {
   "cell_type": "code",
   "execution_count": 3,
   "id": "0e67bb72",
   "metadata": {},
   "outputs": [],
   "source": [
    "# read in data from csv file\n",
    "file = \"Resources/movies.csv\"\n",
    "spark.sparkContext.addFile(file)"
   ]
  },
  {
   "cell_type": "code",
   "execution_count": 4,
   "id": "c3025ed1",
   "metadata": {},
   "outputs": [
    {
     "name": "stdout",
     "output_type": "stream",
     "text": [
      "+--------------------+------+---------+----+--------------------+-----+---------+------------------+--------------------+-----------------+--------------+----------+-----------+--------------------+-------+\n",
      "|                name|rating|    genre|year|            released|score|    votes|          director|              writer|             star|       country|    budget|      gross|             company|runtime|\n",
      "+--------------------+------+---------+----+--------------------+-----+---------+------------------+--------------------+-----------------+--------------+----------+-----------+--------------------+-------+\n",
      "|         The Shining|     R|    Drama|1980|June 13, 1980 (Un...|  8.4| 927000.0|   Stanley Kubrick|        Stephen King|   Jack Nicholson|United Kingdom|19000000.0| 46998772.0|        Warner Bros.|  146.0|\n",
      "|     The Blue Lagoon|     R|Adventure|1980|July 2, 1980 (Uni...|  5.8|  65000.0|    Randal Kleiser|Henry De Vere Sta...|   Brooke Shields| United States| 4500000.0| 58853106.0|   Columbia Pictures|  104.0|\n",
      "|Star Wars: Episod...|    PG|   Action|1980|June 20, 1980 (Un...|  8.7|1200000.0|    Irvin Kershner|      Leigh Brackett|      Mark Hamill| United States|18000000.0|538375067.0|           Lucasfilm|  124.0|\n",
      "|           Airplane!|    PG|   Comedy|1980|July 2, 1980 (Uni...|  7.7| 221000.0|      Jim Abrahams|        Jim Abrahams|      Robert Hays| United States| 3500000.0| 83453539.0|  Paramount Pictures|   88.0|\n",
      "|          Caddyshack|     R|   Comedy|1980|July 25, 1980 (Un...|  7.3| 108000.0|      Harold Ramis|  Brian Doyle-Murray|      Chevy Chase| United States| 6000000.0| 39846344.0|      Orion Pictures|   98.0|\n",
      "|     Friday the 13th|     R|   Horror|1980|May 9, 1980 (Unit...|  6.4| 123000.0|Sean S. Cunningham|       Victor Miller|     Betsy Palmer| United States|  550000.0| 39754601.0|  Paramount Pictures|   95.0|\n",
      "|  The Blues Brothers|     R|   Action|1980|June 20, 1980 (Un...|  7.9| 188000.0|       John Landis|         Dan Aykroyd|     John Belushi| United States|27000000.0|115229890.0|  Universal Pictures|  133.0|\n",
      "|         Raging Bull|     R|Biography|1980|December 19, 1980...|  8.2| 330000.0|   Martin Scorsese|        Jake LaMotta|   Robert De Niro| United States|18000000.0| 23402427.0|Chartoff-Winkler ...|  129.0|\n",
      "|         Superman II|    PG|   Action|1980|June 19, 1981 (Un...|  6.8| 101000.0|    Richard Lester|        Jerry Siegel|     Gene Hackman| United States|54000000.0|108185706.0|      Dovemead Films|  127.0|\n",
      "|     The Long Riders|     R|Biography|1980|May 16, 1980 (Uni...|  7.0|  10000.0|       Walter Hill|         Bill Bryden|  David Carradine| United States|10000000.0| 15795189.0|      United Artists|  100.0|\n",
      "|Any Which Way You...|    PG|   Action|1980|December 17, 1980...|  6.1|  18000.0|    Buddy Van Horn|    Stanford Sherman|   Clint Eastwood| United States|15000000.0| 70687344.0| The Malpaso Company|  116.0|\n",
      "|The Gods Must Be ...|    PG|Adventure|1980|October 26, 1984 ...|  7.3|  54000.0|         Jamie Uys|           Jamie Uys|            N!xau|  South Africa| 5000000.0| 30031783.0|        C.A.T. Films|  109.0|\n",
      "|              Popeye|    PG|Adventure|1980|December 12, 1980...|  5.3|  30000.0|     Robert Altman|       Jules Feiffer|   Robin Williams| United States|20000000.0| 49823037.0|  Paramount Pictures|  114.0|\n",
      "|     Ordinary People|     R|    Drama|1980|September 19, 198...|  7.7|  49000.0|    Robert Redford|        Judith Guest|Donald Sutherland| United States| 6000000.0| 54766923.0|  Paramount Pictures|  124.0|\n",
      "|     Dressed to Kill|     R|    Crime|1980|July 25, 1980 (Un...|  7.1|  37000.0|    Brian De Palma|      Brian De Palma|    Michael Caine| United States| 6500000.0| 31899000.0|   Filmways Pictures|  104.0|\n",
      "|   Somewhere in Time|    PG|    Drama|1980|October 3, 1980 (...|  7.2|  27000.0|    Jeannot Szwarc|    Richard Matheson|Christopher Reeve| United States| 5100000.0|  9709597.0|     Rastar Pictures|  103.0|\n",
      "|                Fame|     R|    Drama|1980|May 16, 1980 (Uni...|  6.6|  21000.0|       Alan Parker|    Christopher Gore|      Eddie Barth| United States|      NULL| 21202829.0|Metro-Goldwyn-May...|  134.0|\n",
      "|              9 to 5|    PG|   Comedy|1980|December 19, 1980...|  6.9|  29000.0|     Colin Higgins|    Patricia Resnick|       Jane Fonda| United States|10000000.0|103300686.0|           IPC Films|  109.0|\n",
      "|             The Fog|     R|   Horror|1980|February 8, 1980 ...|  6.8|  66000.0|    John Carpenter|      John Carpenter| Adrienne Barbeau| United States| 1000000.0| 21448782.0|AVCO Embassy Pict...|   89.0|\n",
      "|          Stir Crazy|     R|   Comedy|1980|December 12, 1980...|  6.8|  26000.0|    Sidney Poitier|  Bruce Jay Friedman|      Gene Wilder| United States|      NULL|101300000.0|   Columbia Pictures|  111.0|\n",
      "+--------------------+------+---------+----+--------------------+-----+---------+------------------+--------------------+-----------------+--------------+----------+-----------+--------------------+-------+\n",
      "only showing top 20 rows\n",
      "\n"
     ]
    }
   ],
   "source": [
    "# assign file a variable and read in file\n",
    "from pyspark import SparkFiles\n",
    "df = spark.read.csv(SparkFiles.get(\"movies.csv\"), sep=\",\", header=True)\n",
    "\n",
    "# show dataframe\n",
    "df.show()"
   ]
  },
  {
   "cell_type": "code",
   "execution_count": 5,
   "id": "427659f4",
   "metadata": {},
   "outputs": [
    {
     "data": {
      "text/plain": [
       "7668"
      ]
     },
     "execution_count": 5,
     "metadata": {},
     "output_type": "execute_result"
    }
   ],
   "source": [
    "# count rows\n",
    "df.count()"
   ]
  },
  {
   "cell_type": "code",
   "execution_count": 6,
   "id": "558fc440",
   "metadata": {},
   "outputs": [
    {
     "name": "stdout",
     "output_type": "stream",
     "text": [
      "+--------------------+------+---------+----+--------------------+-----+---------+------------------+--------------------+------------------+--------------+----------+-----------+--------------------+-------+\n",
      "|                name|rating|    genre|year|            released|score|    votes|          director|              writer|              star|       country|    budget|      gross|             company|runtime|\n",
      "+--------------------+------+---------+----+--------------------+-----+---------+------------------+--------------------+------------------+--------------+----------+-----------+--------------------+-------+\n",
      "|         The Shining|     R|    Drama|1980|June 13, 1980 (Un...|  8.4| 927000.0|   Stanley Kubrick|        Stephen King|    Jack Nicholson|United Kingdom|19000000.0| 46998772.0|        Warner Bros.|  146.0|\n",
      "|     The Blue Lagoon|     R|Adventure|1980|July 2, 1980 (Uni...|  5.8|  65000.0|    Randal Kleiser|Henry De Vere Sta...|    Brooke Shields| United States| 4500000.0| 58853106.0|   Columbia Pictures|  104.0|\n",
      "|Star Wars: Episod...|    PG|   Action|1980|June 20, 1980 (Un...|  8.7|1200000.0|    Irvin Kershner|      Leigh Brackett|       Mark Hamill| United States|18000000.0|538375067.0|           Lucasfilm|  124.0|\n",
      "|           Airplane!|    PG|   Comedy|1980|July 2, 1980 (Uni...|  7.7| 221000.0|      Jim Abrahams|        Jim Abrahams|       Robert Hays| United States| 3500000.0| 83453539.0|  Paramount Pictures|   88.0|\n",
      "|          Caddyshack|     R|   Comedy|1980|July 25, 1980 (Un...|  7.3| 108000.0|      Harold Ramis|  Brian Doyle-Murray|       Chevy Chase| United States| 6000000.0| 39846344.0|      Orion Pictures|   98.0|\n",
      "|     Friday the 13th|     R|   Horror|1980|May 9, 1980 (Unit...|  6.4| 123000.0|Sean S. Cunningham|       Victor Miller|      Betsy Palmer| United States|  550000.0| 39754601.0|  Paramount Pictures|   95.0|\n",
      "|  The Blues Brothers|     R|   Action|1980|June 20, 1980 (Un...|  7.9| 188000.0|       John Landis|         Dan Aykroyd|      John Belushi| United States|27000000.0|115229890.0|  Universal Pictures|  133.0|\n",
      "|         Raging Bull|     R|Biography|1980|December 19, 1980...|  8.2| 330000.0|   Martin Scorsese|        Jake LaMotta|    Robert De Niro| United States|18000000.0| 23402427.0|Chartoff-Winkler ...|  129.0|\n",
      "|         Superman II|    PG|   Action|1980|June 19, 1981 (Un...|  6.8| 101000.0|    Richard Lester|        Jerry Siegel|      Gene Hackman| United States|54000000.0|108185706.0|      Dovemead Films|  127.0|\n",
      "|     The Long Riders|     R|Biography|1980|May 16, 1980 (Uni...|  7.0|  10000.0|       Walter Hill|         Bill Bryden|   David Carradine| United States|10000000.0| 15795189.0|      United Artists|  100.0|\n",
      "|Any Which Way You...|    PG|   Action|1980|December 17, 1980...|  6.1|  18000.0|    Buddy Van Horn|    Stanford Sherman|    Clint Eastwood| United States|15000000.0| 70687344.0| The Malpaso Company|  116.0|\n",
      "|The Gods Must Be ...|    PG|Adventure|1980|October 26, 1984 ...|  7.3|  54000.0|         Jamie Uys|           Jamie Uys|             N!xau|  South Africa| 5000000.0| 30031783.0|        C.A.T. Films|  109.0|\n",
      "|              Popeye|    PG|Adventure|1980|December 12, 1980...|  5.3|  30000.0|     Robert Altman|       Jules Feiffer|    Robin Williams| United States|20000000.0| 49823037.0|  Paramount Pictures|  114.0|\n",
      "|     Ordinary People|     R|    Drama|1980|September 19, 198...|  7.7|  49000.0|    Robert Redford|        Judith Guest| Donald Sutherland| United States| 6000000.0| 54766923.0|  Paramount Pictures|  124.0|\n",
      "|     Dressed to Kill|     R|    Crime|1980|July 25, 1980 (Un...|  7.1|  37000.0|    Brian De Palma|      Brian De Palma|     Michael Caine| United States| 6500000.0| 31899000.0|   Filmways Pictures|  104.0|\n",
      "|   Somewhere in Time|    PG|    Drama|1980|October 3, 1980 (...|  7.2|  27000.0|    Jeannot Szwarc|    Richard Matheson| Christopher Reeve| United States| 5100000.0|  9709597.0|     Rastar Pictures|  103.0|\n",
      "|              9 to 5|    PG|   Comedy|1980|December 19, 1980...|  6.9|  29000.0|     Colin Higgins|    Patricia Resnick|        Jane Fonda| United States|10000000.0|103300686.0|           IPC Films|  109.0|\n",
      "|             The Fog|     R|   Horror|1980|February 8, 1980 ...|  6.8|  66000.0|    John Carpenter|      John Carpenter|  Adrienne Barbeau| United States| 1000000.0| 21448782.0|AVCO Embassy Pict...|   89.0|\n",
      "|            Cruising|     R|    Crime|1980|February 15, 1980...|  6.5|  20000.0|  William Friedkin|    William Friedkin|         Al Pacino|  West Germany|11000000.0| 19814523.0|Lorimar Film Ente...|  102.0|\n",
      "|       Heaven's Gate|     R|Adventure|1980|April 24, 1981 (U...|  6.8|  14000.0|    Michael Cimino|      Michael Cimino|Kris Kristofferson| United States|44000000.0|  3484523.0|Partisan Productions|  219.0|\n",
      "+--------------------+------+---------+----+--------------------+-----+---------+------------------+--------------------+------------------+--------------+----------+-----------+--------------------+-------+\n",
      "only showing top 20 rows\n",
      "\n"
     ]
    }
   ],
   "source": [
    "# remove rows with null values\n",
    "df = df.dropna()\n",
    "df.show()"
   ]
  },
  {
   "cell_type": "code",
   "execution_count": 7,
   "id": "4f3759bf",
   "metadata": {},
   "outputs": [
    {
     "data": {
      "text/plain": [
       "5421"
      ]
     },
     "execution_count": 7,
     "metadata": {},
     "output_type": "execute_result"
    }
   ],
   "source": [
    "# count rows\n",
    "df.count()\n"
   ]
  },
  {
   "cell_type": "code",
   "execution_count": 9,
   "id": "2be70a70",
   "metadata": {},
   "outputs": [],
   "source": [
    "# drop extreme outliers identified by team: Paranormal Activity, The Blair Witch Project, The Gallows, El Mariachi\n",
    "df = df.filter((df.name != 'Paranormal Activity'))\n",
    "df = df.filter((df.name != 'The Blair Witch Project'))\n",
    "df = df.filter((df.name != 'The Gallows'))\n",
    "df = df.filter((df.name != 'El Mariachi'))"
   ]
  },
  {
   "cell_type": "code",
   "execution_count": 10,
   "id": "4d8b29a9",
   "metadata": {},
   "outputs": [
    {
     "data": {
      "text/plain": [
       "5417"
      ]
     },
     "execution_count": 10,
     "metadata": {},
     "output_type": "execute_result"
    }
   ],
   "source": [
    "# count rows\n",
    "df.count()"
   ]
  },
  {
   "cell_type": "code",
   "execution_count": 12,
   "id": "a0022469",
   "metadata": {},
   "outputs": [
    {
     "data": {
      "text/html": [
       "<div>\n",
       "<style scoped>\n",
       "    .dataframe tbody tr th:only-of-type {\n",
       "        vertical-align: middle;\n",
       "    }\n",
       "\n",
       "    .dataframe tbody tr th {\n",
       "        vertical-align: top;\n",
       "    }\n",
       "\n",
       "    .dataframe thead th {\n",
       "        text-align: right;\n",
       "    }\n",
       "</style>\n",
       "<table border=\"1\" class=\"dataframe\">\n",
       "  <thead>\n",
       "    <tr style=\"text-align: right;\">\n",
       "      <th></th>\n",
       "      <th>name</th>\n",
       "      <th>rating</th>\n",
       "      <th>genre</th>\n",
       "      <th>year</th>\n",
       "      <th>released</th>\n",
       "      <th>score</th>\n",
       "      <th>votes</th>\n",
       "      <th>director</th>\n",
       "      <th>writer</th>\n",
       "      <th>star</th>\n",
       "      <th>country</th>\n",
       "      <th>budget</th>\n",
       "      <th>gross</th>\n",
       "      <th>company</th>\n",
       "      <th>runtime</th>\n",
       "    </tr>\n",
       "  </thead>\n",
       "  <tbody>\n",
       "    <tr>\n",
       "      <th>0</th>\n",
       "      <td>The Shining</td>\n",
       "      <td>R</td>\n",
       "      <td>Drama</td>\n",
       "      <td>1980</td>\n",
       "      <td>June 13, 1980 (United States)</td>\n",
       "      <td>8.4</td>\n",
       "      <td>927000.0</td>\n",
       "      <td>Stanley Kubrick</td>\n",
       "      <td>Stephen King</td>\n",
       "      <td>Jack Nicholson</td>\n",
       "      <td>United Kingdom</td>\n",
       "      <td>19000000.0</td>\n",
       "      <td>46998772.0</td>\n",
       "      <td>Warner Bros.</td>\n",
       "      <td>146.0</td>\n",
       "    </tr>\n",
       "    <tr>\n",
       "      <th>1</th>\n",
       "      <td>The Blue Lagoon</td>\n",
       "      <td>R</td>\n",
       "      <td>Adventure</td>\n",
       "      <td>1980</td>\n",
       "      <td>July 2, 1980 (United States)</td>\n",
       "      <td>5.8</td>\n",
       "      <td>65000.0</td>\n",
       "      <td>Randal Kleiser</td>\n",
       "      <td>Henry De Vere Stacpoole</td>\n",
       "      <td>Brooke Shields</td>\n",
       "      <td>United States</td>\n",
       "      <td>4500000.0</td>\n",
       "      <td>58853106.0</td>\n",
       "      <td>Columbia Pictures</td>\n",
       "      <td>104.0</td>\n",
       "    </tr>\n",
       "    <tr>\n",
       "      <th>2</th>\n",
       "      <td>Star Wars: Episode V - The Empire Strikes Back</td>\n",
       "      <td>PG</td>\n",
       "      <td>Action</td>\n",
       "      <td>1980</td>\n",
       "      <td>June 20, 1980 (United States)</td>\n",
       "      <td>8.7</td>\n",
       "      <td>1200000.0</td>\n",
       "      <td>Irvin Kershner</td>\n",
       "      <td>Leigh Brackett</td>\n",
       "      <td>Mark Hamill</td>\n",
       "      <td>United States</td>\n",
       "      <td>18000000.0</td>\n",
       "      <td>538375067.0</td>\n",
       "      <td>Lucasfilm</td>\n",
       "      <td>124.0</td>\n",
       "    </tr>\n",
       "    <tr>\n",
       "      <th>3</th>\n",
       "      <td>Airplane!</td>\n",
       "      <td>PG</td>\n",
       "      <td>Comedy</td>\n",
       "      <td>1980</td>\n",
       "      <td>July 2, 1980 (United States)</td>\n",
       "      <td>7.7</td>\n",
       "      <td>221000.0</td>\n",
       "      <td>Jim Abrahams</td>\n",
       "      <td>Jim Abrahams</td>\n",
       "      <td>Robert Hays</td>\n",
       "      <td>United States</td>\n",
       "      <td>3500000.0</td>\n",
       "      <td>83453539.0</td>\n",
       "      <td>Paramount Pictures</td>\n",
       "      <td>88.0</td>\n",
       "    </tr>\n",
       "    <tr>\n",
       "      <th>4</th>\n",
       "      <td>Caddyshack</td>\n",
       "      <td>R</td>\n",
       "      <td>Comedy</td>\n",
       "      <td>1980</td>\n",
       "      <td>July 25, 1980 (United States)</td>\n",
       "      <td>7.3</td>\n",
       "      <td>108000.0</td>\n",
       "      <td>Harold Ramis</td>\n",
       "      <td>Brian Doyle-Murray</td>\n",
       "      <td>Chevy Chase</td>\n",
       "      <td>United States</td>\n",
       "      <td>6000000.0</td>\n",
       "      <td>39846344.0</td>\n",
       "      <td>Orion Pictures</td>\n",
       "      <td>98.0</td>\n",
       "    </tr>\n",
       "  </tbody>\n",
       "</table>\n",
       "</div>"
      ],
      "text/plain": [
       "                                             name rating      genre  year  \\\n",
       "0                                     The Shining      R      Drama  1980   \n",
       "1                                 The Blue Lagoon      R  Adventure  1980   \n",
       "2  Star Wars: Episode V - The Empire Strikes Back     PG     Action  1980   \n",
       "3                                       Airplane!     PG     Comedy  1980   \n",
       "4                                      Caddyshack      R     Comedy  1980   \n",
       "\n",
       "                        released score      votes         director  \\\n",
       "0  June 13, 1980 (United States)   8.4   927000.0  Stanley Kubrick   \n",
       "1   July 2, 1980 (United States)   5.8    65000.0   Randal Kleiser   \n",
       "2  June 20, 1980 (United States)   8.7  1200000.0   Irvin Kershner   \n",
       "3   July 2, 1980 (United States)   7.7   221000.0     Jim Abrahams   \n",
       "4  July 25, 1980 (United States)   7.3   108000.0     Harold Ramis   \n",
       "\n",
       "                    writer            star         country      budget  \\\n",
       "0             Stephen King  Jack Nicholson  United Kingdom  19000000.0   \n",
       "1  Henry De Vere Stacpoole  Brooke Shields   United States   4500000.0   \n",
       "2           Leigh Brackett     Mark Hamill   United States  18000000.0   \n",
       "3             Jim Abrahams     Robert Hays   United States   3500000.0   \n",
       "4       Brian Doyle-Murray     Chevy Chase   United States   6000000.0   \n",
       "\n",
       "         gross             company runtime  \n",
       "0   46998772.0        Warner Bros.   146.0  \n",
       "1   58853106.0   Columbia Pictures   104.0  \n",
       "2  538375067.0           Lucasfilm   124.0  \n",
       "3   83453539.0  Paramount Pictures    88.0  \n",
       "4   39846344.0      Orion Pictures    98.0  "
      ]
     },
     "execution_count": 12,
     "metadata": {},
     "output_type": "execute_result"
    }
   ],
   "source": [
    "# convert to pandas df\n",
    "movies_cleaned = df.toPandas()\n",
    "\n",
    "movies_cleaned.head()"
   ]
  },
  {
   "cell_type": "code",
   "execution_count": null,
   "id": "44b1b4cc",
   "metadata": {},
   "outputs": [],
   "source": [
    "# Store the df as CSV file\n",
    "\n",
    "movies_cleaned.to_csv('Resources/movies_cleaned.csv', index=False)"
   ]
  },
  {
   "cell_type": "code",
   "execution_count": null,
   "id": "c2eaa5fd",
   "metadata": {},
   "outputs": [],
   "source": []
  }
 ],
 "metadata": {
  "kernelspec": {
   "display_name": "Python 3 (ipykernel)",
   "language": "python",
   "name": "python3"
  },
  "language_info": {
   "codemirror_mode": {
    "name": "ipython",
    "version": 3
   },
   "file_extension": ".py",
   "mimetype": "text/x-python",
   "name": "python",
   "nbconvert_exporter": "python",
   "pygments_lexer": "ipython3",
   "version": "3.10.13"
  }
 },
 "nbformat": 4,
 "nbformat_minor": 5
}
